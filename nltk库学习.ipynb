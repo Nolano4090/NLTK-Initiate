{
 "cells": [
  {
   "cell_type": "markdown",
   "metadata": {},
   "source": [
    "## 参考文档\n",
    "https://www.nltk.org/"
   ]
  },
  {
   "cell_type": "code",
   "execution_count": 29,
   "metadata": {},
   "outputs": [],
   "source": [
    "import matplotlib.pyplot as plt\n",
    "import nltk\n",
    "import numpy as np\n",
    "import re\n",
    "import torch\n",
    "\n",
    "from gensim import corpora, models, similarities\n",
    "from gensim.models.word2vec import Word2Vec\n",
    "from nltk.corpus import treebank\n",
    "from nltk.corpus import stopwords\n",
    "from wordcloud import WordCloud"
   ]
  },
  {
   "cell_type": "code",
   "execution_count": 27,
   "metadata": {},
   "outputs": [],
   "source": [
    "## The Old Man and the Sea 文本处理\n",
    "\n",
    "# 读取文本文件\n",
    "file = open(r\"F:\\The Old Man and The Sea.txt\",\"r\")\n",
    "text = file.read()\n",
    "file.close()\n",
    "\n",
    "\n",
    "# 文本分句\n",
    "sentences = nltk.sent_tokenize(text)\n",
    "\n",
    "# 文本分词\n",
    "corpus = nltk.word_tokenize(str(sentences))\n",
    "\n",
    "# 停用词过滤\n",
    "stop_words = stopwords.words('english')\n",
    "for w in ['!',',','.','?','-s','-ly','</s>','s','``','\\'','\\\"','[',']','','asiaing.com','ma','-']:\n",
    "    stop_words.append(w)\n",
    "filtered_words = [word for word in corpus if word.lower() not in stop_words]\n",
    "\n",
    "# 单词前后缀删除\n",
    "for i in range(len(filtered_words)):\n",
    "    filtered_words[i] = filtered_words[i].strip()\n",
    "    filtered_words[i] = filtered_words[i].strip('\\'')\n",
    "    filtered_words[i] = filtered_words[i].strip('\\n')\n",
    "    filtered_words[i] = filtered_words[i].strip('\\\\n')\n",
    "    filtered_words[i] = filtered_words[i].strip('\\\\')\n",
    "    filtered_words[i] = filtered_words[i].strip('/')\n",
    "\n",
    "# 二次过滤\n",
    "filtered_words = [word for word in filtered_words if word.lower() not in stop_words]\n",
    "\n",
    "# 词频统计\n",
    "freq_dist = nltk.FreqDist(filtered_words)"
   ]
  },
  {
   "cell_type": "code",
   "execution_count": 28,
   "metadata": {},
   "outputs": [
    {
     "data": {
      "image/png": "[encoded data removed]",
      "text/plain": [
       "<Figure size 432x288 with 1 Axes>"
      ]
     },
     "metadata": {
      "needs_background": "light"
     },
     "output_type": "display_data"
    },
    {
     "data": {
      "text/plain": [
       "<wordcloud.wordcloud.WordCloud at 0x2cb60b15320>"
      ]
     },
     "execution_count": 28,
     "metadata": {},
     "output_type": "execute_result"
    }
   ],
   "source": [
    "# 生成词云\n",
    "wordcloud = WordCloud(\n",
    "        background_color=\"white\", #设置背景为白色，默认为黑色\n",
    "        width=1500,              #设置图片的宽度\n",
    "        height=960,              #设置图片的高度\n",
    "        margin=10               #设置图片的边缘\n",
    "        ).generate(str(freq_dist.most_common(30)))\n",
    "\n",
    "# 绘制图片\n",
    "plt.imshow(wordcloud)\n",
    "\n",
    "# 消除坐标轴\n",
    "plt.axis(\"off\")\n",
    "\n",
    "# 展示图片\n",
    "plt.show()\n",
    "\n",
    "# 保存图片\n",
    "wordcloud.to_file('old_man_and_sea_wordcloud.jpg')"
   ]
  },
  {
   "cell_type": "code",
   "execution_count": 12,
   "metadata": {},
   "outputs": [
    {
     "name": "stderr",
     "output_type": "stream",
     "text": [
      "[nltk_data] Downloading package punkt to\n",
      "[nltk_data]     C:\\Users\\lenovo\\AppData\\Roaming\\nltk_data...\n",
      "[nltk_data]   Package punkt is already up-to-date!\n",
      "[nltk_data] Downloading package maxent_ne_chunker to\n",
      "[nltk_data]     C:\\Users\\lenovo\\AppData\\Roaming\\nltk_data...\n",
      "[nltk_data]   Unzipping chunkers\\maxent_ne_chunker.zip.\n"
     ]
    },
    {
     "data": {
      "text/plain": [
       "True"
      ]
     },
     "execution_count": 12,
     "metadata": {},
     "output_type": "execute_result"
    }
   ],
   "source": [
    "nltk.download('punkt')\n",
    "nltk.download('maxent_ne_chunker')"
   ]
  },
  {
   "cell_type": "code",
   "execution_count": 14,
   "metadata": {},
   "outputs": [
    {
     "data": {
      "text/plain": [
       "['All', 'I', 'want', 'to', 'do', 'is', 'to', 'make', 'you', 'proud', '.']"
      ]
     },
     "execution_count": 14,
     "metadata": {},
     "output_type": "execute_result"
    }
   ],
   "source": [
    "## tokenize \n",
    "## 分词工具 nltk.word_tokenize(sent)\n",
    "sentence = \"\"\"All I want to do is to make you proud.\"\"\"\n",
    "tokens = nltk.word_tokenize(sentence)\n",
    "tokens"
   ]
  },
  {
   "cell_type": "markdown",
   "metadata": {},
   "source": [
    "# nltk 词性大全学习\n",
    "https://blog.csdn.net/pengjian444/article/details/81143983"
   ]
  },
  {
   "cell_type": "code",
   "execution_count": 16,
   "metadata": {},
   "outputs": [
    {
     "data": {
      "text/plain": [
       "[('All', 'DT'),\n",
       " ('I', 'PRP'),\n",
       " ('want', 'VBP'),\n",
       " ('to', 'TO'),\n",
       " ('do', 'VB'),\n",
       " ('is', 'VBZ'),\n",
       " ('to', 'TO'),\n",
       " ('make', 'VB'),\n",
       " ('you', 'PRP'),\n",
       " ('proud', 'JJ'),\n",
       " ('.', '.')]"
      ]
     },
     "execution_count": 16,
     "metadata": {},
     "output_type": "execute_result"
    }
   ],
   "source": [
    "## tagging\n",
    "##词性标注工具nltk.pos_tag(tokens)  \n",
    "tagged = nltk.pos_tag(tokens)\n",
    "tagged[:]"
   ]
  },
  {
   "cell_type": "code",
   "execution_count": 18,
   "metadata": {},
   "outputs": [
    {
     "name": "stdout",
     "output_type": "stream",
     "text": [
      "(S\n",
      "  All/DT\n",
      "  I/PRP\n",
      "  want/VBP\n",
      "  to/TO\n",
      "  do/VB\n",
      "  is/VBZ\n",
      "  to/TO\n",
      "  make/VB\n",
      "  you/PRP\n",
      "  proud/JJ\n",
      "  ./.)\n"
     ]
    }
   ],
   "source": [
    "## 确认命名实体 named entities\n",
    "## nltk.chunk.ne_chunk(tagged)\n",
    "entities = nltk.chunk.ne_chunk(tagged)\n",
    "print(entities)"
   ]
  },
  {
   "cell_type": "code",
   "execution_count": 22,
   "metadata": {},
   "outputs": [],
   "source": [
    "## parsing tree 语法分析树\n",
    "## treebank.parsed_sents()\n",
    "t = treebank.parsed_sents('wsj_0001.mrg')[0]\n",
    "t.draw()"
   ]
  },
  {
   "cell_type": "code",
   "execution_count": 17,
   "metadata": {},
   "outputs": [],
   "source": []
  },
  {
   "cell_type": "code",
   "execution_count": null,
   "metadata": {},
   "outputs": [],
   "source": []
  }
 ],
 "metadata": {
  "kernelspec": {
   "display_name": "Python 3",
   "language": "python",
   "name": "python3"
  },
  "language_info": {
   "codemirror_mode": {
    "name": "ipython",
    "version": 3
   },
   "file_extension": ".py",
   "mimetype": "text/x-python",
   "name": "python",
   "nbconvert_exporter": "python",
   "pygments_lexer": "ipython3",
   "version": "3.7.1"
  }
 },
 "nbformat": 4,
 "nbformat_minor": 2
}
